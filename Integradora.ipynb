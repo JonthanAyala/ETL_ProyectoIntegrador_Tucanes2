{
 "cells": [
  {
   "cell_type": "code",
   "execution_count": 16,
   "id": "2196e02d",
   "metadata": {},
   "outputs": [
    {
     "name": "stdout",
     "output_type": "stream",
     "text": [
      "✅ Librerías importadas exitosamente!\n"
     ]
    }
   ],
   "source": [
    "import pandas as pd\n",
    "import numpy as np\n",
    "import matplotlib.pyplot as plt\n",
    "import seaborn as sns\n",
    "from datetime import datetime\n",
    "import warnings\n",
    "import matplotlib.pyplot as plt\n",
    "import seaborn as sns\n",
    "import sqlite3\n",
    "import re\n",
    "\n",
    "plt.style.use('default')\n",
    "warnings.filterwarnings('ignore')\n",
    "pd.set_option('display.max_columns', None)\n",
    "pd.set_option('display.max_rows', 20)\n",
    "\n",
    "print(\"✅ Librerías importadas exitosamente!\")"
   ]
  },
  {
   "cell_type": "code",
   "execution_count": 17,
   "id": "1048819c",
   "metadata": {},
   "outputs": [
    {
     "name": "stdout",
     "output_type": "stream",
     "text": [
      "✅ Archivo CSV cargado exitosamente!\n",
      "<class 'pandas.core.frame.DataFrame'>\n",
      "RangeIndex: 6375 entries, 0 to 6374\n",
      "Data columns (total 9 columns):\n",
      " #   Column                  Non-Null Count  Dtype  \n",
      "---  ------                  --------------  -----  \n",
      " 0   ID Entidad Federaativa  6375 non-null   int64  \n",
      " 1   Entidad federativa      6375 non-null   object \n",
      " 2   Municipio               6375 non-null   object \n",
      " 3   Año                     6375 non-null   int64  \n",
      " 4   Subsector               6335 non-null   object \n",
      " 5   Categoría de generador  6375 non-null   object \n",
      " 6   Categoría del residuo   6366 non-null   object \n",
      " 7   Tipo de residuo         6345 non-null   object \n",
      " 8   Generación estimada     6375 non-null   float64\n",
      "dtypes: float64(1), int64(2), object(6)\n",
      "memory usage: 448.4+ KB\n",
      "None\n"
     ]
    },
    {
     "data": {
      "application/vnd.microsoft.datawrangler.viewer.v0+json": {
       "columns": [
        {
         "name": "index",
         "rawType": "int64",
         "type": "integer"
        },
        {
         "name": "ID Entidad Federaativa",
         "rawType": "int64",
         "type": "integer"
        },
        {
         "name": "Entidad federativa",
         "rawType": "object",
         "type": "string"
        },
        {
         "name": "Municipio",
         "rawType": "object",
         "type": "string"
        },
        {
         "name": "Año",
         "rawType": "int64",
         "type": "integer"
        },
        {
         "name": "Subsector",
         "rawType": "object",
         "type": "string"
        },
        {
         "name": "Categoría de generador",
         "rawType": "object",
         "type": "string"
        },
        {
         "name": "Categoría del residuo",
         "rawType": "object",
         "type": "string"
        },
        {
         "name": "Tipo de residuo",
         "rawType": "object",
         "type": "string"
        },
        {
         "name": "Generación estimada",
         "rawType": "float64",
         "type": "float"
        }
       ],
       "ref": "7e7fa91d-f57b-46c0-9ea4-bc175f0c9ae9",
       "rows": [
        [
         "0",
         "1",
         "Aguascalientes",
         "Sin Dato",
         "2017",
         "Petrolero",
         "Microgenerador",
         "Gasolina, diesel y naftas gastados o sucios provenientes de estaciónes de servicio y talleres automotrices",
         "Pequeño Generador",
         "1.22"
        ],
        [
         "1",
         "1",
         "Aguascalientes",
         "Sin Dato",
         "2017",
         "Petrolero",
         "Microgenerador",
         "Gasolina, diesel y naftas gastados o sucios provenientes de estaciónes de servicio y talleres automotrices",
         "Mezclas de combustibles sucios, mezclas de hidrocarburos, naftas",
         "0.04"
        ],
        [
         "2",
         "1",
         "Aguascalientes",
         "Sin Dato",
         "2017",
         "Petrolero",
         "Microgenerador",
         "Liquidos de proceso",
         "Agua contaminada con hidrocarburos, combustibles, aceite o grasa",
         "0.09"
        ],
        [
         "3",
         "1",
         "Aguascalientes",
         "Sin Dato",
         "2017",
         "Petrolero",
         "Microgenerador",
         "Lodos aceitosos",
         "Con contaminacion de hidrocarburos, combustibles, aceite",
         "1.08"
        ],
        [
         "4",
         "1",
         "Aguascalientes",
         "Sin Dato",
         "2017",
         "Petrolero",
         "Microgenerador",
         "Residuos solidos",
         "Estopa, trapo, plasticos, carton, madera, brochas, papel, cepillo, etc., impregnados con pinturas, grasas, aceites, hidrocarburos",
         "3.12"
        ]
       ],
       "shape": {
        "columns": 9,
        "rows": 5
       }
      },
      "text/html": [
       "<div>\n",
       "<style scoped>\n",
       "    .dataframe tbody tr th:only-of-type {\n",
       "        vertical-align: middle;\n",
       "    }\n",
       "\n",
       "    .dataframe tbody tr th {\n",
       "        vertical-align: top;\n",
       "    }\n",
       "\n",
       "    .dataframe thead th {\n",
       "        text-align: right;\n",
       "    }\n",
       "</style>\n",
       "<table border=\"1\" class=\"dataframe\">\n",
       "  <thead>\n",
       "    <tr style=\"text-align: right;\">\n",
       "      <th></th>\n",
       "      <th>ID Entidad Federaativa</th>\n",
       "      <th>Entidad federativa</th>\n",
       "      <th>Municipio</th>\n",
       "      <th>Año</th>\n",
       "      <th>Subsector</th>\n",
       "      <th>Categoría de generador</th>\n",
       "      <th>Categoría del residuo</th>\n",
       "      <th>Tipo de residuo</th>\n",
       "      <th>Generación estimada</th>\n",
       "    </tr>\n",
       "  </thead>\n",
       "  <tbody>\n",
       "    <tr>\n",
       "      <th>0</th>\n",
       "      <td>1</td>\n",
       "      <td>Aguascalientes</td>\n",
       "      <td>Sin Dato</td>\n",
       "      <td>2017</td>\n",
       "      <td>Petrolero</td>\n",
       "      <td>Microgenerador</td>\n",
       "      <td>Gasolina, diesel y naftas gastados o sucios pr...</td>\n",
       "      <td>Pequeño Generador</td>\n",
       "      <td>1.22</td>\n",
       "    </tr>\n",
       "    <tr>\n",
       "      <th>1</th>\n",
       "      <td>1</td>\n",
       "      <td>Aguascalientes</td>\n",
       "      <td>Sin Dato</td>\n",
       "      <td>2017</td>\n",
       "      <td>Petrolero</td>\n",
       "      <td>Microgenerador</td>\n",
       "      <td>Gasolina, diesel y naftas gastados o sucios pr...</td>\n",
       "      <td>Mezclas de combustibles sucios, mezclas de hid...</td>\n",
       "      <td>0.04</td>\n",
       "    </tr>\n",
       "    <tr>\n",
       "      <th>2</th>\n",
       "      <td>1</td>\n",
       "      <td>Aguascalientes</td>\n",
       "      <td>Sin Dato</td>\n",
       "      <td>2017</td>\n",
       "      <td>Petrolero</td>\n",
       "      <td>Microgenerador</td>\n",
       "      <td>Liquidos de proceso</td>\n",
       "      <td>Agua contaminada con hidrocarburos, combustibl...</td>\n",
       "      <td>0.09</td>\n",
       "    </tr>\n",
       "    <tr>\n",
       "      <th>3</th>\n",
       "      <td>1</td>\n",
       "      <td>Aguascalientes</td>\n",
       "      <td>Sin Dato</td>\n",
       "      <td>2017</td>\n",
       "      <td>Petrolero</td>\n",
       "      <td>Microgenerador</td>\n",
       "      <td>Lodos aceitosos</td>\n",
       "      <td>Con contaminacion de hidrocarburos, combustibl...</td>\n",
       "      <td>1.08</td>\n",
       "    </tr>\n",
       "    <tr>\n",
       "      <th>4</th>\n",
       "      <td>1</td>\n",
       "      <td>Aguascalientes</td>\n",
       "      <td>Sin Dato</td>\n",
       "      <td>2017</td>\n",
       "      <td>Petrolero</td>\n",
       "      <td>Microgenerador</td>\n",
       "      <td>Residuos solidos</td>\n",
       "      <td>Estopa, trapo, plasticos, carton, madera, broc...</td>\n",
       "      <td>3.12</td>\n",
       "    </tr>\n",
       "  </tbody>\n",
       "</table>\n",
       "</div>"
      ],
      "text/plain": [
       "   ID Entidad Federaativa Entidad federativa Municipio   Año  Subsector  \\\n",
       "0                       1     Aguascalientes  Sin Dato  2017  Petrolero   \n",
       "1                       1     Aguascalientes  Sin Dato  2017  Petrolero   \n",
       "2                       1     Aguascalientes  Sin Dato  2017  Petrolero   \n",
       "3                       1     Aguascalientes  Sin Dato  2017  Petrolero   \n",
       "4                       1     Aguascalientes  Sin Dato  2017  Petrolero   \n",
       "\n",
       "  Categoría de generador                              Categoría del residuo  \\\n",
       "0         Microgenerador  Gasolina, diesel y naftas gastados o sucios pr...   \n",
       "1         Microgenerador  Gasolina, diesel y naftas gastados o sucios pr...   \n",
       "2         Microgenerador                                Liquidos de proceso   \n",
       "3         Microgenerador                                    Lodos aceitosos   \n",
       "4         Microgenerador                                   Residuos solidos   \n",
       "\n",
       "                                     Tipo de residuo  Generación estimada  \n",
       "0                                  Pequeño Generador                 1.22  \n",
       "1  Mezclas de combustibles sucios, mezclas de hid...                 0.04  \n",
       "2  Agua contaminada con hidrocarburos, combustibl...                 0.09  \n",
       "3  Con contaminacion de hidrocarburos, combustibl...                 1.08  \n",
       "4  Estopa, trapo, plasticos, carton, madera, broc...                 3.12  "
      ]
     },
     "execution_count": 17,
     "metadata": {},
     "output_type": "execute_result"
    }
   ],
   "source": [
    "df_original = pd.read_csv(r'Generacio_n_estimada_de_residuos_peligrosos_por_tipo_de_residuo_2017-2023.csv',\n",
    "encoding='latin1')\n",
    "\n",
    "print(\"✅ Archivo CSV cargado exitosamente!\")\n",
    "print(df_original.info())\n",
    "df_original.head()"
   ]
  },
  {
   "cell_type": "markdown",
   "id": "45b6d66f",
   "metadata": {},
   "source": [
    "# Plan de Ejecución del Proceso ETL\n",
    "\n",
    "Este documento detalla el plan de trabajo para el diseño e implementación de un proceso ETL (Extracción, Transformación, Carga) básico utilizando Python (principalmente Pandas) sobre nuestro conjunto de datos seleccionado de datos.gob.mx.\n",
    "\n",
    "---\n",
    "\n",
    "## 1. Integrantes del Equipo\n",
    "\n",
    "* Ayala Garcia Jonathan David\n",
    "* Acosta Guerra Andres Isai\n",
    "* Castañeda Rodriguez Jaime\n",
    "* Hernandez Ramirez Adrian\n",
    "\n"
   ]
  },
  {
   "cell_type": "markdown",
   "id": "6fe185c2",
   "metadata": {},
   "source": [
    "## 2. Dataset Seleccionado\n",
    "\n",
    "* **Nombre del Dataset:** Residuos Peligrosos Generados por Entidad Federativa y Municipio\n",
    "* **Enlace al Dataset en datos.gob.mx:**\n",
    "[https://historico.datos.gob.mx/busca/dataset/generacion-estimada-de-residuos-peligrosos-por-tipo-de-residuo]"
   ]
  },
  {
   "cell_type": "markdown",
   "id": "0399b663",
   "metadata": {},
   "source": [
    "## 3. Objetivo de Análisis Principal\n",
    "\n",
    "Nuestros análisis principales con este dataset para el proyecto integrador incluyen:\n",
    "\n",
    "* Detectar y cuantificar registros duplicados y posibles inconsistencias en los datos de residuos peligrosos, para asegurar la calidad y unicidad de la información.\n",
    "* Identificar y analizar valores faltantes en las variables clave, con el fin de evaluar la completitud del dataset y definir estrategias de imputación o limpieza.\n",
    "* Detectar valores atípicos en las variables numéricas relevantes (por ejemplo, \"Generación estimada\"), para identificar posibles errores de captura o casos excepcionales que requieran revisión.\n",
    "\n",
    "Estas decisiones guiarán las transformaciones necesarias para"
   ]
  },
  {
   "cell_type": "markdown",
   "id": "de151b50",
   "metadata": {},
   "source": [
    "## 4. Diseño Detallado del Proceso ETL\n",
    "\n",
    "### 4.1. Plan de Extracción (E)\n",
    "\n",
    "* **Archivo a Leer:** residuos_peligrosos.csv\n",
    "* **Formato del Archivo:** CSV\n",
    "* **Parámetros de Lectura (ej. para CSV):**\n",
    "    * **Separador:** `,`\n",
    "    * **Encoding:** `utf-8`\n",
    "    * **Encabezados:** Sí\n",
    "* **Selección Inicial de Columnas:**\n",
    "    * Se cargarán todas las columnas y se realizará la selección en la fase de Transformación."
   ]
  },
  {
   "cell_type": "code",
   "execution_count": 18,
   "id": "9e181905",
   "metadata": {},
   "outputs": [
    {
     "name": "stdout",
     "output_type": "stream",
     "text": [
      " \n",
      " Columnas con valores faltantes: \n",
      "ID Entidad Federaativa     0\n",
      "Entidad federativa         0\n",
      "Municipio                  0\n",
      "Año                        0\n",
      "Subsector                 40\n",
      "Categoría de generador     0\n",
      "Categoría del residuo      9\n",
      "Tipo de residuo           30\n",
      "Generación estimada        0\n",
      "dtype: int64\n",
      " \n",
      " Porcentaje de valores faltantes por columna: \n",
      "ID Entidad Federaativa    0.000000\n",
      "Entidad federativa        0.000000\n",
      "Municipio                 0.000000\n",
      "Año                       0.000000\n",
      "Subsector                 0.627451\n",
      "Categoría de generador    0.000000\n",
      "Categoría del residuo     0.141176\n",
      "Tipo de residuo           0.470588\n",
      "Generación estimada       0.000000\n",
      "dtype: float64\n",
      "\n",
      "Columnas con más del 20% de valores faltantes:\n",
      "0\n"
     ]
    }
   ],
   "source": [
    "faltantes = df_original.isnull().sum()\n",
    "print(f\" \\n Columnas con valores faltantes: \\n{faltantes}\")\n",
    "\n",
    "porcentaje_faltantes = (faltantes / len(df_original)) * 100\n",
    "pd.set_option('display.max_rows', None)\n",
    "pd.set_option('display.max_columns', None)\n",
    "print(f\" \\n Porcentaje de valores faltantes por columna: \\n{porcentaje_faltantes}\")\n",
    "\n",
    "columnas_mas_20 = porcentaje_faltantes[porcentaje_faltantes > 20]\n",
    "print(\"\\nColumnas con más del 20% de valores faltantes:\")\n",
    "print(columnas_mas_20.shape[0])"
   ]
  },
  {
   "cell_type": "code",
   "execution_count": 19,
   "id": "dea53085",
   "metadata": {},
   "outputs": [
    {
     "data": {
      "image/png": "[encoded data removed]",
      "text/plain": [
       "<Figure size 1200x600 with 1 Axes>"
      ]
     },
     "metadata": {},
     "output_type": "display_data"
    }
   ],
   "source": [
    "\n",
    "plt.figure(figsize=(12, 6))\n",
    "sns.heatmap(df_original.isnull(), cbar=False, cmap='viridis', yticklabels=False)\n",
    "plt.title('Mapa de calor de valores faltantes')\n",
    "plt.xlabel('Columnas')\n",
    "plt.ylabel('Filas')\n",
    "plt.show()"
   ]
  },
  {
   "cell_type": "code",
   "execution_count": 30,
   "id": "7c223ebc",
   "metadata": {},
   "outputs": [
    {
     "name": "stdout",
     "output_type": "stream",
     "text": [
      "\n",
      "Número de registros duplicados exactos: 66\n",
      "\n",
      "Número de registros duplicados con posibles variaciones: 3510\n",
      "\n",
      "Columnas con valores faltantes:\n",
      "ID Entidad Federaativa     0\n",
      "Entidad federativa         0\n",
      "Municipio                  0\n",
      "Año                        0\n",
      "Subsector                 40\n",
      "Categoría de generador     0\n",
      "Categoría del residuo      9\n",
      "Tipo de residuo           30\n",
      "Generación estimada        0\n",
      "dtype: int64\n"
     ]
    }
   ],
   "source": [
    "\n",
    "duplicados_exactos = df_original.duplicated().sum()\n",
    "print(f\"\\nNúmero de registros duplicados exactos: {duplicados_exactos}\")\n",
    "\n",
    "# Identificar posibles duplicados con variaciones\n",
    "posibles_variaciones = df_original.duplicated(subset=['Subsector', 'Tipo de residuo','Generación estimada'], keep=False)\n",
    "\n",
    "print(f\"\\nNúmero de registros duplicados con posibles variaciones: {posibles_variaciones.sum()}\")\n",
    "\n",
    "# Mostrar columnas con valores faltantes\n",
    "print(\"\\nColumnas con valores faltantes:\")\n",
    "print(df_original.isnull().sum())\n"
   ]
  },
  {
   "cell_type": "code",
   "execution_count": 21,
   "id": "6a7f7bcb",
   "metadata": {},
   "outputs": [
    {
     "name": "stdout",
     "output_type": "stream",
     "text": [
      "\n",
      "Valores atípicos encontrados:\n",
      "\n",
      "Columna: Generación estimada\n",
      "0 valores atípicos encontrados.\n"
     ]
    },
    {
     "data": {
      "image/png": "[encoded data removed]",
      "text/plain": [
       "<Figure size 1200x600 with 1 Axes>"
      ]
     },
     "metadata": {},
     "output_type": "display_data"
    }
   ],
   "source": [
    "\n",
    "rangos_validos = {\n",
    "    'Generación estimada': (0, 1000000),\n",
    "}\n",
    "\n",
    "# Encontrar valores atipicos\n",
    "valores_atipicos = {}\n",
    "for columna, (min_val, max_val) in rangos_validos.items():\n",
    "    if columna in df_original.columns:\n",
    "        # Encontrar valores atípicos y colocarlos en un DataFrame\n",
    "        atipicos = df_original[(df_original[columna] < min_val) | (df_original[columna] > max_val)]\n",
    "        valores_atipicos[columna] = atipicos\n",
    "if valores_atipicos:\n",
    "    print(\"\\nValores atípicos encontrados:\")\n",
    "    for columna, atipicos in valores_atipicos.items():\n",
    "        print(f\"\\nColumna: {columna}\")\n",
    "        print(atipicos.shape[0], \"valores atípicos encontrados.\")\n",
    "\n",
    "# Mostrar un mapa de calor de valores atípicos\n",
    "plt.figure(figsize=(12, 6))\n",
    "sns.heatmap(df_original.isin(valores_atipicos).astype(int), cbar=False, cmap='coolwarm', yticklabels=False)\n",
    "plt.title('Mapa de calor de valores atípicos')\n",
    "plt.xlabel('Columnas')\n",
    "plt.ylabel('Filas')\n",
    "plt.show()\n",
    "\n"
   ]
  },
  {
   "cell_type": "markdown",
   "id": "c4e7c2f1",
   "metadata": {},
   "source": []
  },
  {
   "cell_type": "markdown",
   "id": "7a278082",
   "metadata": {},
   "source": [
    "### 4.2. Plan de Transformación (T)\n",
    "\n",
    "Esta es la fase más crítica. Aquí detallamos las acciones que se tomarán para limpiar y estructurar los datos, columna por columna si es necesario, basándonos en nuestra exploración previa y los objetivos de análisis.\n",
    "\n",
    "* **4.2.1. Renombrar/Estandarizar Columnas:**\n",
    "    * **Lista de Columnas a Renombrar:**\n",
    "        * `ID Entidad Federaativa` -> `ID_Entidad_Federativa` (Justificación: Corregir error ortográfico y estandarizar a snake_case)\n",
    "        * `Entidad federativa` -> `Entidad_Federativa` (Justificación: Estandarizar a snake_case)\n",
    "        * `Generación estimada` -> `Generacion_Estimada` (Justificación: Estandarizar a snake_case y eliminar acentos)\n",
    "    * **Estandarizar cadenas\n",
    "        * Acentos\n",
    "        * Mayusculas\n",
    "        * Minusculas\n",
    "        * Espacios\n",
    "        * Caracteres especiales"
   ]
  },
  {
   "cell_type": "code",
   "execution_count": null,
   "id": "59ca08fe",
   "metadata": {},
   "outputs": [
    {
     "name": "stdout",
     "output_type": "stream",
     "text": [
      "{6375}\n"
     ]
    }
   ],
   "source": [
    "# Crear una copia del DataFrame original para evitar modificarlo directamente\n",
    "df_copy = df_original.copy()"
   ]
  },
  {
   "cell_type": "code",
   "execution_count": null,
   "id": "72d58f30",
   "metadata": {},
   "outputs": [
    {
     "name": "stdout",
     "output_type": "stream",
     "text": [
      "Columnas antes del renombrado:\n",
      "['ID Entidad Federaativa', 'Entidad federativa', 'Municipio', 'Año', 'Subsector', 'Categoría de generador', 'Categoría del residuo', 'Tipo de residuo', 'Generación estimada']\n",
      "Columnas después del renombrado:\n",
      "['ID_Entidad_Federativa', 'Entidad_Federativa', 'Municipio', 'Año', 'Subsector', 'Categoria_Generador', 'Categoria_Residuo', 'Tipo_Residuo', 'Generacion_Estimada']\n",
      "6375\n"
     ]
    }
   ],
   "source": [
    "\n",
    "\n",
    "# Diccionario de renombrado\n",
    "renombrar_columnas = {\n",
    "    'ID Entidad Federaativa': 'ID_Entidad_Federativa',\n",
    "    'Entidad federativa': 'Entidad_Federativa',\n",
    "    'Categoría de generador': 'Categoria_Generador',\n",
    "    'Categoría del residuo': 'Categoria_Residuo',\n",
    "    'Tipo de residuo': 'Tipo_Residuo',\n",
    "    'Generación estimada': 'Generacion_Estimada'\n",
    "}\n",
    "\n",
    "print(\"Columnas antes del renombrado:\")\n",
    "print(df_original.columns.tolist())\n",
    "\n",
    "df_copy = df_copy.rename(columns=renombrar_columnas)\n",
    "\n",
    "print(\"Columnas después del renombrado:\")\n",
    "print(df_copy.columns.tolist())\n"
   ]
  },
  {
   "cell_type": "markdown",
   "id": "2a9b5db7",
   "metadata": {},
   "source": [
    "* **4.2.2. Selección de Columnas (Eliminación de No Necesarias):**\n",
    "    * **Columnas Finales Necesarias:**\n",
    "        * `ID_Entidad_Federativa` (Identificador único de la entidad federativa)\n",
    "        * `Entidad_Federativa` (Nombre de la entidad federativa)\n",
    "        * `Municipio` (Nombre del municipio)\n",
    "        * `Año` (Año de registro)\n",
    "        * `Subsector` (Clasificación del subsector)\n",
    "        * `Categoria_de_Generador` (Categoría del generador de residuos)\n",
    "        * `Categoria_del_Residuo` (Tipo de residuo)\n",
    "        * `Tipo_de_Residuo` (Clasificación específica del residuo)\n",
    "        * `Generacion_Estimada` (Cantidad estimada de residuos generados)\n",
    "        > Estas columnas son importantes porque contienen la información clave para el análisis geográfico, temporal y cuantitativo de los residuos peligrosos."
   ]
  },
  {
   "cell_type": "markdown",
   "id": "391dc500",
   "metadata": {},
   "source": [
    "* **4.2.3. Corrección de Tipos de Datos:**\n",
    "    * **Columna `Año`:** Convertir a tipo `int`. (Justificación: El archivo original solo contiene el año.)\n",
    "    * **Columna `Generacion_Estimada`:** Convertir a tipo `float`. (Justificación: Para realizar cálculos y análisis estadísticos sobre la cantidad de residuos.)\n",
    "    * **Columna `Entidad_Federativa`, `Municipio`, `Subsector`, `Categoria_de_Generador`, `Categoria_del_Residuo`:** Convertir a tipo `category`. (Justificación: Son variables categóricas y esto optimiza memoria y análisis.)\n",
    "    * *Consideraciones:* Usar `errors='coerce'` para manejar valores no convertibles."
   ]
  },
  {
   "cell_type": "code",
   "execution_count": 34,
   "id": "555f7b40",
   "metadata": {},
   "outputs": [
    {
     "name": "stdout",
     "output_type": "stream",
     "text": [
      "Tipos de datos antes de la conversión:\n",
      "ID_Entidad_Federativa       int64\n",
      "Entidad_Federativa       category\n",
      "Municipio                category\n",
      "Año                         Int64\n",
      "Subsector                category\n",
      "Categoria_Generador      category\n",
      "Categoria_Residuo        category\n",
      "Tipo_Residuo               object\n",
      "Generacion_Estimada       float64\n",
      "dtype: object\n",
      "Tipos de datos después de la conversión:\n",
      "ID_Entidad_Federativa       int64\n",
      "Entidad_Federativa       category\n",
      "Municipio                category\n",
      "Año                         Int64\n",
      "Subsector                category\n",
      "Categoria_Generador      category\n",
      "Categoria_Residuo        category\n",
      "Tipo_Residuo               object\n",
      "Generacion_Estimada       float64\n",
      "dtype: object\n"
     ]
    }
   ],
   "source": [
    "#Tipos de datos antes de la conversión\n",
    "print(\"Tipos de datos antes de la conversión:\")\n",
    "print(df_copy.dtypes)\n",
    "# Corrección de tipos de datos\n",
    "df_copy['Año'] = pd.to_numeric(df_copy['Año'], errors='coerce').astype('Int64')\n",
    "df_copy['Generacion_Estimada'] = pd.to_numeric(df_copy['Generacion_Estimada'], errors='coerce')\n",
    "\n",
    "categoricas = [ \n",
    "    'Entidad_Federativa',\n",
    "    'Municipio',\n",
    "    'Subsector',\n",
    "    'Categoria_Generador',\n",
    "    'Categoria_Residuo',\n",
    "]\n",
    "\n",
    "for col in categoricas:\n",
    "    df_copy[col] = df_copy[col].astype('category')\n",
    "\n",
    "print(\"Tipos de datos después de la conversión:\")\n",
    "print(df_copy.dtypes)\n"
   ]
  },
  {
   "cell_type": "markdown",
   "id": "0d516d61",
   "metadata": {},
   "source": [
    "* **4.2.4. Limpieza de Texto (para columnas categóricas/texto):**\n",
    "    * **Columna `Entidad_Federativa`:**\n",
    "        * Acciones: Eliminar espacios extra (`.str.strip()`), convertir a mayúsculas (`.str.upper()`), estandarizar nombres de entidades si es necesario (ej. \"CDMX\" a \"CIUDAD DE MÉXICO\").\n",
    "        * (Justificación: Mejorar consistencia y permitir agrupaciones correctas.)\n",
    "    * **Columna `Municipio`:**\n",
    "        * Acciones: Eliminar espacios extra, convertir a mayúsculas, corregir errores ortográficos comunes.\n",
    "        * (Justificación: Evitar duplicados por diferencias de formato y facilitar análisis geográfico.)\n",
    "    * **Columna `Subsector`, `Categoría de generador`, `Categoría del residuo`, `Tipo de residuo`:**\n",
    "        * Acciones: Eliminar espacios extra, convertir a mayúsculas, estandarizar valores si es necesario.\n",
    "        * (Justificación: Mejorar calidad de los datos categóricos y facilitar análisis.)"
   ]
  },
  {
   "cell_type": "code",
   "execution_count": 36,
   "id": "419ad58e",
   "metadata": {},
   "outputs": [
    {
     "name": "stdout",
     "output_type": "stream",
     "text": [
      "Normalizando datos en:  Entidad_Federativa\n",
      "Normalizando datos en:  Municipio\n",
      "Normalizando datos en:  Subsector\n",
      "Normalizando datos en:  Categoria_Generador\n",
      "Normalizando datos en:  Categoria_Residuo\n",
      "Normalizando datos en:  Tipo_Residuo\n",
      "Valores únicos de Entidad_Federativa después de limpieza:\n",
      "['Aguascalientes' 'Baja California' 'Baja California Sur' 'Campeche'\n",
      " 'Coahuila De Zaragoza' 'Colima' 'Chiapas' 'Chihuahua' 'Ciudad De Mexico'\n",
      " 'Durango' 'Guanajuato' 'Guerrero' 'Hidalgo' 'Jalisco' 'Mexico'\n",
      " 'Michoacan De Ocampo' 'Morelos' 'Nayarit' 'Nuevo Leon' 'Oaxaca' 'Puebla'\n",
      " 'Queretaro' 'Quintana Roo' 'San Luis Potosi' 'Sinaloa' 'Sonora' 'Tabasco'\n",
      " 'Tamaulipas' 'Tlaxcala' 'Veracruz De Ignacio De La Llave' 'Yucatan'\n",
      " 'Zacatecas']\n"
     ]
    }
   ],
   "source": [
    "# Estandarizar cadenas de texto teniendo en cuenta espacios, mayúsculas, mínusculas y caracteres especiales \n",
    "def estandarizar_texto(texto):\n",
    "    if isinstance(texto, str):\n",
    "        texto = texto.translate(str.maketrans(\"áéíóúÁÉÍÓÚ\", \"aeiouAEIOU\"))  # quitar acentos\n",
    "        texto = texto.lower()\n",
    "        texto = re.sub(r'[^a-z0-9\\s]', '', texto)  # quitar símbolos\n",
    "        texto = ' '.join(texto.strip().split())  # limpiar espacios\n",
    "        return texto.title()\n",
    "    return texto\n",
    "\n",
    "# Aplicar la función de estandarización a las columnas de texto\n",
    "columnas_texto = ['Entidad_Federativa','Municipio','Subsector', 'Categoria_Generador', 'Categoria_Residuo', 'Tipo_Residuo']\n",
    "for columna in columnas_texto:\n",
    "    print(\"Normalizando datos en: \", columna)\n",
    "    df_copy[columna] = df_copy[columna].apply(estandarizar_texto)\n",
    "\n",
    "print(\"Valores únicos de Entidad_Federativa después de limpieza:\")\n",
    "print(df_copy['Entidad_Federativa'].unique())\n"
   ]
  },
  {
   "cell_type": "markdown",
   "id": "09e33d3e",
   "metadata": {},
   "source": [
    "* **4.2.5. Manejo de Valores Faltantes (NaNs):**\n",
    "    * **Columna `Subsector`:**\n",
    "        * Estrategia: Rellenar valores faltantes con 'DESCONOCIDO'.\n",
    "        * Justificación: Es una variable categórica y no se puede imputar numéricamente; asignar 'DESCONOCIDO' permite conservar los registros para el análisis.\n",
    "    * **Columna `Categoría del residuo`:**\n",
    "        * Estrategia: Rellenar valores faltantes con 'NO ESPECIFICADO'.\n",
    "        * Justificación: Mantener la integridad del dataset y evitar la eliminación de registros potencialmente útiles.\n",
    "    * **Columna `Tipo de residuo`:**\n",
    "        * Estrategia: Rellenar valores faltantes con 'NO ESPECIFICADO'.\n",
    "        * Justificación: Similar a la anterior, para no perder información relevante y facilitar el análisis."
   ]
  },
  {
   "cell_type": "code",
   "execution_count": 38,
   "id": "b642eb53",
   "metadata": {},
   "outputs": [
    {
     "name": "stdout",
     "output_type": "stream",
     "text": [
      "Valores faltantes por columna después del tratamiento:\n",
      "ID_Entidad_Federativa    0\n",
      "Entidad_Federativa       0\n",
      "Municipio                0\n",
      "Año                      0\n",
      "Subsector                0\n",
      "Categoria_Generador      0\n",
      "Categoria_Residuo        0\n",
      "Tipo_Residuo             0\n",
      "Generacion_Estimada      0\n",
      "dtype: int64\n"
     ]
    }
   ],
   "source": [
    "# Manejo de valores faltantes\n",
    "df_copy['Subsector'] = df_copy['Subsector'].fillna('DESCONOCIDO')\n",
    "df_copy['Categoria_Residuo'] = df_copy['Categoria_Residuo'].fillna('NO ESPECIFICADO')\n",
    "df_copy['Tipo_Residuo'] = df_copy['Tipo_Residuo'].fillna('NO ESPECIFICADO')\n",
    "\n",
    "print(\"Valores faltantes por columna después del tratamiento:\")\n",
    "print(df_copy.isnull().sum())\n"
   ]
  },
  {
   "cell_type": "markdown",
   "id": "9a89b1e9",
   "metadata": {},
   "source": [
    "* **4.2.6. Manejo de Duplicados:**\n",
    "    * **Identificación:** Se buscarán filas duplicadas completas para su eliminacion directa ya que representa el 1% de los datos totales.\n",
    "    * **Tratamiento:** Se eliminarán los duplicados conservando la primera ocurrencia usando `.drop_duplicates()`.\n",
    "    * Justificación: Asegurar la unicidad de los registros clave y evitar el sesgo en los análisis por registros repetidos."
   ]
  },
  {
   "cell_type": "code",
   "execution_count": 42,
   "id": "7b5f670a",
   "metadata": {},
   "outputs": [
    {
     "name": "stdout",
     "output_type": "stream",
     "text": [
      "Porcentaje de duplicados exactos\n",
      "1.04%\n",
      "Total de registros después de eliminar duplicados: 6375\n",
      "Total de registros después de eliminar duplicados: 6309\n",
      "Duplicados eliminados: 66\n"
     ]
    }
   ],
   "source": [
    "# Eliminar duplicados completos\n",
    "\n",
    "suma_duplicados = df_copy.duplicated().sum()\n",
    "print(\"Porcentaje de duplicados exactos\")\n",
    "porcentaje_duplicados = (suma_duplicados / len(df_original)) * 100\n",
    "print(f\"{porcentaje_duplicados:.2f}%\")\n",
    "\n",
    "df_copy = df_copy.drop_duplicates()\n",
    "print(f\"Total de registros después de eliminar duplicados: {len(df_original)}\")\n",
    "print(f\"Total de registros después de eliminar duplicados: {len(df_copy)}\")\n",
    "print(f\"Duplicados eliminados: {len(df_original)-len(df_copy)}\")\n",
    "\n"
   ]
  },
  {
   "cell_type": "markdown",
   "id": "16faded2",
   "metadata": {},
   "source": [
    "* **4.2.7. Validación/Corrección de Errores (Valores Atípicos/Imposibles):**\n",
    "    * **Columna `Generacion_Estimada`:**\n",
    "        * Rango Lógico: Entre 0 y 1,000,000.\n",
    "        * Acción: Reemplazar valores fuera de rango por NaN y luego decidir si imputar o eliminar esos registros.\n",
    "        * Justificación: Evitar sesgos en los análisis estadísticos y asegurar que los resultados reflejen datos plausibles."
   ]
  },
  {
   "cell_type": "code",
   "execution_count": null,
   "id": "0aeec97a",
   "metadata": {},
   "outputs": [
    {
     "name": "stdout",
     "output_type": "stream",
     "text": [
      "Cantidad de valores fuera de rango en 'Generacion_Estimada' corregidos a NaN: 0\n"
     ]
    }
   ],
   "source": [
    "# Validación/corrección de valores atípicos en 'Generacion_Estimada'\n",
    "min_val, max_val = 0, 1000000  # Ajusta el rango según el contexto real\n",
    "fuera_de_rango = (df_copy['Generacion_Estimada'] < min_val) | (df_copy['Generacion_Estimada'] > max_val)\n",
    "df_copy.loc[fuera_de_rango, 'Generacion_Estimada'] = np.nan\n",
    "\n",
    "print(\"Cantidad de valores fuera de rango en 'Generacion_Estimada' corregidos a NaN:\", fuera_de_rango.sum())\n",
    "#No hay valores atipicos\n"
   ]
  },
  {
   "cell_type": "markdown",
   "id": "8965549b",
   "metadata": {},
   "source": [
    "* **4.2.8. (Opcional) Feature Engineering Básico:**\n",
    "    * **Lo justifican pibes"
   ]
  },
  {
   "cell_type": "markdown",
   "id": "b5b75092",
   "metadata": {},
   "source": [
    "* **4.2.9. Estructura Final del DataFrame(s):**\n",
    "    * Descripción: El DataFrame final contendrá únicamente las columnas relevantes y limpias para el análisis de residuos peligrosos. Todas las columnas estarán estandarizadas, sin valores faltantes críticos, y con tipos de datos apropiados. Se mantendrá un solo DataFrame principal, ya que el análisis no requiere una estructura de tablas separadas (hechos/dimensiones).\n",
    "    * Ejemplo de la estructura esperada:\n",
    "        ```\n",
    "        DataFrame Final:\n",
    "        - ID_Entidad_Federativa (int): Identificador único de la entidad federativa\n",
    "        - Entidad_Federativa (category): Nombre estandarizado de la entidad federativa\n",
    "        - Municipio (category): Nombre estandarizado del municipio\n",
    "        - Año (int): Año del registro\n",
    "        - Subsector (category): Clasificación del subsector\n",
    "        - Categoría de generador (category): Tipo de generador de residuos\n",
    "        - Categoría del residuo (category): Tipo general de residuo\n",
    "        - Tipo de residuo (category): Clasificación específica del residuo\n",
    "        - Generacion_Estimada (float): Cantidad estimada de residuos generados"
   ]
  },
  {
   "cell_type": "markdown",
   "id": "ac3637d9",
   "metadata": {},
   "source": []
  },
  {
   "cell_type": "code",
   "execution_count": 46,
   "id": "fe8cb66e",
   "metadata": {},
   "outputs": [
    {
     "name": "stdout",
     "output_type": "stream",
     "text": [
      "Estructura final del DataFrame:\n",
      "ID_Entidad_Federativa       int64\n",
      "Entidad_Federativa         object\n",
      "Municipio                category\n",
      "Año                         Int64\n",
      "Subsector                  object\n",
      "Categoria_Generador        object\n",
      "Categoria_Residuo          object\n",
      "Tipo_Residuo               object\n",
      "Generacion_Estimada       float64\n",
      "dtype: object\n",
      "\n",
      "Primeras filas del DataFrame final:\n"
     ]
    },
    {
     "data": {
      "application/vnd.microsoft.datawrangler.viewer.v0+json": {
       "columns": [
        {
         "name": "index",
         "rawType": "int64",
         "type": "integer"
        },
        {
         "name": "ID_Entidad_Federativa",
         "rawType": "int64",
         "type": "integer"
        },
        {
         "name": "Entidad_Federativa",
         "rawType": "object",
         "type": "string"
        },
        {
         "name": "Municipio",
         "rawType": "category",
         "type": "unknown"
        },
        {
         "name": "Año",
         "rawType": "Int64",
         "type": "integer"
        },
        {
         "name": "Subsector",
         "rawType": "object",
         "type": "string"
        },
        {
         "name": "Categoria_Generador",
         "rawType": "object",
         "type": "string"
        },
        {
         "name": "Categoria_Residuo",
         "rawType": "object",
         "type": "string"
        },
        {
         "name": "Tipo_Residuo",
         "rawType": "object",
         "type": "string"
        },
        {
         "name": "Generacion_Estimada",
         "rawType": "float64",
         "type": "float"
        }
       ],
       "ref": "2d2b03f2-d7c0-4597-91c9-8e7e81886c06",
       "rows": [
        [
         "0",
         "1",
         "Aguascalientes",
         "Sin Dato",
         "2017",
         "Petrolero",
         "Microgenerador",
         "Gasolina Diesel Y Naftas Gastados O Sucios Provenientes De Estaciones De Servicio Y Talleres Automotrices",
         "Pequeo Generador",
         "1.22"
        ],
        [
         "1",
         "1",
         "Aguascalientes",
         "Sin Dato",
         "2017",
         "Petrolero",
         "Microgenerador",
         "Gasolina Diesel Y Naftas Gastados O Sucios Provenientes De Estaciones De Servicio Y Talleres Automotrices",
         "Mezclas De Combustibles Sucios Mezclas De Hidrocarburos Naftas",
         "0.04"
        ],
        [
         "2",
         "1",
         "Aguascalientes",
         "Sin Dato",
         "2017",
         "Petrolero",
         "Microgenerador",
         "Liquidos De Proceso",
         "Agua Contaminada Con Hidrocarburos Combustibles Aceite O Grasa",
         "0.09"
        ],
        [
         "3",
         "1",
         "Aguascalientes",
         "Sin Dato",
         "2017",
         "Petrolero",
         "Microgenerador",
         "Lodos Aceitosos",
         "Con Contaminacion De Hidrocarburos Combustibles Aceite",
         "1.08"
        ],
        [
         "4",
         "1",
         "Aguascalientes",
         "Sin Dato",
         "2017",
         "Petrolero",
         "Microgenerador",
         "Residuos Solidos",
         "Estopa Trapo Plasticos Carton Madera Brochas Papel Cepillo Etc Impregnados Con Pinturas Grasas Aceites Hidrocarburos",
         "3.12"
        ]
       ],
       "shape": {
        "columns": 9,
        "rows": 5
       }
      },
      "text/html": [
       "<div>\n",
       "<style scoped>\n",
       "    .dataframe tbody tr th:only-of-type {\n",
       "        vertical-align: middle;\n",
       "    }\n",
       "\n",
       "    .dataframe tbody tr th {\n",
       "        vertical-align: top;\n",
       "    }\n",
       "\n",
       "    .dataframe thead th {\n",
       "        text-align: right;\n",
       "    }\n",
       "</style>\n",
       "<table border=\"1\" class=\"dataframe\">\n",
       "  <thead>\n",
       "    <tr style=\"text-align: right;\">\n",
       "      <th></th>\n",
       "      <th>ID_Entidad_Federativa</th>\n",
       "      <th>Entidad_Federativa</th>\n",
       "      <th>Municipio</th>\n",
       "      <th>Año</th>\n",
       "      <th>Subsector</th>\n",
       "      <th>Categoria_Generador</th>\n",
       "      <th>Categoria_Residuo</th>\n",
       "      <th>Tipo_Residuo</th>\n",
       "      <th>Generacion_Estimada</th>\n",
       "    </tr>\n",
       "  </thead>\n",
       "  <tbody>\n",
       "    <tr>\n",
       "      <th>0</th>\n",
       "      <td>1</td>\n",
       "      <td>Aguascalientes</td>\n",
       "      <td>Sin Dato</td>\n",
       "      <td>2017</td>\n",
       "      <td>Petrolero</td>\n",
       "      <td>Microgenerador</td>\n",
       "      <td>Gasolina Diesel Y Naftas Gastados O Sucios Pro...</td>\n",
       "      <td>Pequeo Generador</td>\n",
       "      <td>1.22</td>\n",
       "    </tr>\n",
       "    <tr>\n",
       "      <th>1</th>\n",
       "      <td>1</td>\n",
       "      <td>Aguascalientes</td>\n",
       "      <td>Sin Dato</td>\n",
       "      <td>2017</td>\n",
       "      <td>Petrolero</td>\n",
       "      <td>Microgenerador</td>\n",
       "      <td>Gasolina Diesel Y Naftas Gastados O Sucios Pro...</td>\n",
       "      <td>Mezclas De Combustibles Sucios Mezclas De Hidr...</td>\n",
       "      <td>0.04</td>\n",
       "    </tr>\n",
       "    <tr>\n",
       "      <th>2</th>\n",
       "      <td>1</td>\n",
       "      <td>Aguascalientes</td>\n",
       "      <td>Sin Dato</td>\n",
       "      <td>2017</td>\n",
       "      <td>Petrolero</td>\n",
       "      <td>Microgenerador</td>\n",
       "      <td>Liquidos De Proceso</td>\n",
       "      <td>Agua Contaminada Con Hidrocarburos Combustible...</td>\n",
       "      <td>0.09</td>\n",
       "    </tr>\n",
       "    <tr>\n",
       "      <th>3</th>\n",
       "      <td>1</td>\n",
       "      <td>Aguascalientes</td>\n",
       "      <td>Sin Dato</td>\n",
       "      <td>2017</td>\n",
       "      <td>Petrolero</td>\n",
       "      <td>Microgenerador</td>\n",
       "      <td>Lodos Aceitosos</td>\n",
       "      <td>Con Contaminacion De Hidrocarburos Combustible...</td>\n",
       "      <td>1.08</td>\n",
       "    </tr>\n",
       "    <tr>\n",
       "      <th>4</th>\n",
       "      <td>1</td>\n",
       "      <td>Aguascalientes</td>\n",
       "      <td>Sin Dato</td>\n",
       "      <td>2017</td>\n",
       "      <td>Petrolero</td>\n",
       "      <td>Microgenerador</td>\n",
       "      <td>Residuos Solidos</td>\n",
       "      <td>Estopa Trapo Plasticos Carton Madera Brochas P...</td>\n",
       "      <td>3.12</td>\n",
       "    </tr>\n",
       "  </tbody>\n",
       "</table>\n",
       "</div>"
      ],
      "text/plain": [
       "   ID_Entidad_Federativa Entidad_Federativa Municipio   Año  Subsector  \\\n",
       "0                      1     Aguascalientes  Sin Dato  2017  Petrolero   \n",
       "1                      1     Aguascalientes  Sin Dato  2017  Petrolero   \n",
       "2                      1     Aguascalientes  Sin Dato  2017  Petrolero   \n",
       "3                      1     Aguascalientes  Sin Dato  2017  Petrolero   \n",
       "4                      1     Aguascalientes  Sin Dato  2017  Petrolero   \n",
       "\n",
       "  Categoria_Generador                                  Categoria_Residuo  \\\n",
       "0      Microgenerador  Gasolina Diesel Y Naftas Gastados O Sucios Pro...   \n",
       "1      Microgenerador  Gasolina Diesel Y Naftas Gastados O Sucios Pro...   \n",
       "2      Microgenerador                                Liquidos De Proceso   \n",
       "3      Microgenerador                                    Lodos Aceitosos   \n",
       "4      Microgenerador                                   Residuos Solidos   \n",
       "\n",
       "                                        Tipo_Residuo  Generacion_Estimada  \n",
       "0                                   Pequeo Generador                 1.22  \n",
       "1  Mezclas De Combustibles Sucios Mezclas De Hidr...                 0.04  \n",
       "2  Agua Contaminada Con Hidrocarburos Combustible...                 0.09  \n",
       "3  Con Contaminacion De Hidrocarburos Combustible...                 1.08  \n",
       "4  Estopa Trapo Plasticos Carton Madera Brochas P...                 3.12  "
      ]
     },
     "execution_count": 46,
     "metadata": {},
     "output_type": "execute_result"
    }
   ],
   "source": [
    "\n",
    "print(\"Estructura final del DataFrame:\")\n",
    "print(df_copy.dtypes)\n",
    "print(\"\\nPrimeras filas del DataFrame final:\")\n",
    "df_copy.head()\n",
    "\n"
   ]
  },
  {
   "cell_type": "markdown",
   "id": "baa463d1",
   "metadata": {},
   "source": [
    "### 4.3. Plan de Carga (L)\n",
    "\n",
    "* **Destino Simulado:** [Seleccionar una opción y justificar.]\n",
    "    * **Opción 1 (Recomendada): Base de Datos SQLite**\n",
    "        * Nombre del archivo de la DB: `[nombre_de_su_base_de_datos.db]`\n",
    "        * Nombre de la tabla: `[nombre_de_su_tabla]`\n",
    "        * Parámetros `to_sql`: `if_exists='replace'`, `index=False` (para no guardar el índice de Pandas como columna).\n",
    "        * Justificación: [Ej. \"Simula una carga a una base de datos relacional para futuros análisis SQL.\"]\n",
    "    * **Opción 2: Archivos Limpios (CSV o JSON)**\n",
    "        * Nombre del archivo CSV: `[nombre_dataset_limpio.csv]`\n",
    "        * Nombre del archivo JSON: `[nombre_dataset_limpio.json]`\n",
    "        * Parámetros `to_csv`/`to_json`: `index=False` (para no guardar el índice de Pandas como columna).\n",
    "        * Justificación: [Ej. \"Fácilmente accesible para herramientas de análisis posteriores.\"]\n"
   ]
  }
 ],
 "metadata": {
  "kernelspec": {
   "display_name": "base",
   "language": "python",
   "name": "python3"
  },
  "language_info": {
   "codemirror_mode": {
    "name": "ipython",
    "version": 3
   },
   "file_extension": ".py",
   "mimetype": "text/x-python",
   "name": "python",
   "nbconvert_exporter": "python",
   "pygments_lexer": "ipython3",
   "version": "3.12.7"
  }
 },
 "nbformat": 4,
 "nbformat_minor": 5
}
