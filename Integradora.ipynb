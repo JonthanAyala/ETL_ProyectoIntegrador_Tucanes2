{
 "cells": [
  {
   "cell_type": "code",
   "execution_count": 44,
   "id": "2196e02d",
   "metadata": {},
   "outputs": [
    {
     "name": "stdout",
     "output_type": "stream",
     "text": [
      "✅ Librerías importadas exitosamente!\n"
     ]
    }
   ],
   "source": [
    "import pandas as pd\n",
    "import numpy as np\n",
    "import matplotlib.pyplot as plt\n",
    "import seaborn as sns\n",
    "from datetime import datetime\n",
    "import warnings\n",
    "import matplotlib.pyplot as plt\n",
    "import seaborn as sns\n",
    "import sqlite3\n",
    "\n",
    "plt.style.use('default')\n",
    "warnings.filterwarnings('ignore')\n",
    "pd.set_option('display.max_columns', None)\n",
    "pd.set_option('display.max_rows', 20)\n",
    "\n",
    "print(\"✅ Librerías importadas exitosamente!\")"
   ]
  },
  {
   "cell_type": "code",
   "execution_count": 45,
   "id": "1048819c",
   "metadata": {},
   "outputs": [
    {
     "name": "stdout",
     "output_type": "stream",
     "text": [
      "✅ Archivo CSV cargado exitosamente!\n",
      "<class 'pandas.core.frame.DataFrame'>\n",
      "RangeIndex: 6375 entries, 0 to 6374\n",
      "Data columns (total 9 columns):\n",
      " #   Column                  Non-Null Count  Dtype  \n",
      "---  ------                  --------------  -----  \n",
      " 0   ID Entidad Federaativa  6375 non-null   int64  \n",
      " 1   Entidad federativa      6375 non-null   object \n",
      " 2   Municipio               6375 non-null   object \n",
      " 3   Año                     6375 non-null   int64  \n",
      " 4   Subsector               6335 non-null   object \n",
      " 5   Categoría de generador  6375 non-null   object \n",
      " 6   Categoría del residuo   6366 non-null   object \n",
      " 7   Tipo de residuo         6345 non-null   object \n",
      " 8   Generación estimada     6375 non-null   float64\n",
      "dtypes: float64(1), int64(2), object(6)\n",
      "memory usage: 448.4+ KB\n",
      "None\n"
     ]
    },
    {
     "data": {
      "application/vnd.microsoft.datawrangler.viewer.v0+json": {
       "columns": [
        {
         "name": "index",
         "rawType": "int64",
         "type": "integer"
        },
        {
         "name": "ID Entidad Federaativa",
         "rawType": "int64",
         "type": "integer"
        },
        {
         "name": "Entidad federativa",
         "rawType": "object",
         "type": "string"
        },
        {
         "name": "Municipio",
         "rawType": "object",
         "type": "string"
        },
        {
         "name": "Año",
         "rawType": "int64",
         "type": "integer"
        },
        {
         "name": "Subsector",
         "rawType": "object",
         "type": "string"
        },
        {
         "name": "Categoría de generador",
         "rawType": "object",
         "type": "string"
        },
        {
         "name": "Categoría del residuo",
         "rawType": "object",
         "type": "string"
        },
        {
         "name": "Tipo de residuo",
         "rawType": "object",
         "type": "string"
        },
        {
         "name": "Generación estimada",
         "rawType": "float64",
         "type": "float"
        }
       ],
       "ref": "5fed7c2b-64fe-4765-86f2-303746bf3cdc",
       "rows": [
        [
         "0",
         "1",
         "Aguascalientes",
         "Sin Dato",
         "2017",
         "Petrolero",
         "Microgenerador",
         "Gasolina, diesel y naftas gastados o sucios provenientes de estaciónes de servicio y talleres automotrices",
         "Pequeño Generador",
         "1.22"
        ],
        [
         "1",
         "1",
         "Aguascalientes",
         "Sin Dato",
         "2017",
         "Petrolero",
         "Microgenerador",
         "Gasolina, diesel y naftas gastados o sucios provenientes de estaciónes de servicio y talleres automotrices",
         "Mezclas de combustibles sucios, mezclas de hidrocarburos, naftas",
         "0.04"
        ],
        [
         "2",
         "1",
         "Aguascalientes",
         "Sin Dato",
         "2017",
         "Petrolero",
         "Microgenerador",
         "Liquidos de proceso",
         "Agua contaminada con hidrocarburos, combustibles, aceite o grasa",
         "0.09"
        ],
        [
         "3",
         "1",
         "Aguascalientes",
         "Sin Dato",
         "2017",
         "Petrolero",
         "Microgenerador",
         "Lodos aceitosos",
         "Con contaminacion de hidrocarburos, combustibles, aceite",
         "1.08"
        ],
        [
         "4",
         "1",
         "Aguascalientes",
         "Sin Dato",
         "2017",
         "Petrolero",
         "Microgenerador",
         "Residuos solidos",
         "Estopa, trapo, plasticos, carton, madera, brochas, papel, cepillo, etc., impregnados con pinturas, grasas, aceites, hidrocarburos",
         "3.12"
        ]
       ],
       "shape": {
        "columns": 9,
        "rows": 5
       }
      },
      "text/html": [
       "<div>\n",
       "<style scoped>\n",
       "    .dataframe tbody tr th:only-of-type {\n",
       "        vertical-align: middle;\n",
       "    }\n",
       "\n",
       "    .dataframe tbody tr th {\n",
       "        vertical-align: top;\n",
       "    }\n",
       "\n",
       "    .dataframe thead th {\n",
       "        text-align: right;\n",
       "    }\n",
       "</style>\n",
       "<table border=\"1\" class=\"dataframe\">\n",
       "  <thead>\n",
       "    <tr style=\"text-align: right;\">\n",
       "      <th></th>\n",
       "      <th>ID Entidad Federaativa</th>\n",
       "      <th>Entidad federativa</th>\n",
       "      <th>Municipio</th>\n",
       "      <th>Año</th>\n",
       "      <th>Subsector</th>\n",
       "      <th>Categoría de generador</th>\n",
       "      <th>Categoría del residuo</th>\n",
       "      <th>Tipo de residuo</th>\n",
       "      <th>Generación estimada</th>\n",
       "    </tr>\n",
       "  </thead>\n",
       "  <tbody>\n",
       "    <tr>\n",
       "      <th>0</th>\n",
       "      <td>1</td>\n",
       "      <td>Aguascalientes</td>\n",
       "      <td>Sin Dato</td>\n",
       "      <td>2017</td>\n",
       "      <td>Petrolero</td>\n",
       "      <td>Microgenerador</td>\n",
       "      <td>Gasolina, diesel y naftas gastados o sucios pr...</td>\n",
       "      <td>Pequeño Generador</td>\n",
       "      <td>1.22</td>\n",
       "    </tr>\n",
       "    <tr>\n",
       "      <th>1</th>\n",
       "      <td>1</td>\n",
       "      <td>Aguascalientes</td>\n",
       "      <td>Sin Dato</td>\n",
       "      <td>2017</td>\n",
       "      <td>Petrolero</td>\n",
       "      <td>Microgenerador</td>\n",
       "      <td>Gasolina, diesel y naftas gastados o sucios pr...</td>\n",
       "      <td>Mezclas de combustibles sucios, mezclas de hid...</td>\n",
       "      <td>0.04</td>\n",
       "    </tr>\n",
       "    <tr>\n",
       "      <th>2</th>\n",
       "      <td>1</td>\n",
       "      <td>Aguascalientes</td>\n",
       "      <td>Sin Dato</td>\n",
       "      <td>2017</td>\n",
       "      <td>Petrolero</td>\n",
       "      <td>Microgenerador</td>\n",
       "      <td>Liquidos de proceso</td>\n",
       "      <td>Agua contaminada con hidrocarburos, combustibl...</td>\n",
       "      <td>0.09</td>\n",
       "    </tr>\n",
       "    <tr>\n",
       "      <th>3</th>\n",
       "      <td>1</td>\n",
       "      <td>Aguascalientes</td>\n",
       "      <td>Sin Dato</td>\n",
       "      <td>2017</td>\n",
       "      <td>Petrolero</td>\n",
       "      <td>Microgenerador</td>\n",
       "      <td>Lodos aceitosos</td>\n",
       "      <td>Con contaminacion de hidrocarburos, combustibl...</td>\n",
       "      <td>1.08</td>\n",
       "    </tr>\n",
       "    <tr>\n",
       "      <th>4</th>\n",
       "      <td>1</td>\n",
       "      <td>Aguascalientes</td>\n",
       "      <td>Sin Dato</td>\n",
       "      <td>2017</td>\n",
       "      <td>Petrolero</td>\n",
       "      <td>Microgenerador</td>\n",
       "      <td>Residuos solidos</td>\n",
       "      <td>Estopa, trapo, plasticos, carton, madera, broc...</td>\n",
       "      <td>3.12</td>\n",
       "    </tr>\n",
       "  </tbody>\n",
       "</table>\n",
       "</div>"
      ],
      "text/plain": [
       "   ID Entidad Federaativa Entidad federativa Municipio   Año  Subsector  \\\n",
       "0                       1     Aguascalientes  Sin Dato  2017  Petrolero   \n",
       "1                       1     Aguascalientes  Sin Dato  2017  Petrolero   \n",
       "2                       1     Aguascalientes  Sin Dato  2017  Petrolero   \n",
       "3                       1     Aguascalientes  Sin Dato  2017  Petrolero   \n",
       "4                       1     Aguascalientes  Sin Dato  2017  Petrolero   \n",
       "\n",
       "  Categoría de generador                              Categoría del residuo  \\\n",
       "0         Microgenerador  Gasolina, diesel y naftas gastados o sucios pr...   \n",
       "1         Microgenerador  Gasolina, diesel y naftas gastados o sucios pr...   \n",
       "2         Microgenerador                                Liquidos de proceso   \n",
       "3         Microgenerador                                    Lodos aceitosos   \n",
       "4         Microgenerador                                   Residuos solidos   \n",
       "\n",
       "                                     Tipo de residuo  Generación estimada  \n",
       "0                                  Pequeño Generador                 1.22  \n",
       "1  Mezclas de combustibles sucios, mezclas de hid...                 0.04  \n",
       "2  Agua contaminada con hidrocarburos, combustibl...                 0.09  \n",
       "3  Con contaminacion de hidrocarburos, combustibl...                 1.08  \n",
       "4  Estopa, trapo, plasticos, carton, madera, broc...                 3.12  "
      ]
     },
     "execution_count": 45,
     "metadata": {},
     "output_type": "execute_result"
    }
   ],
   "source": [
    "df_original = pd.read_csv(r'Generacio_n_estimada_de_residuos_peligrosos_por_tipo_de_residuo_2017-2023.csv',\n",
    "encoding='latin1')\n",
    "\n",
    "print(\"✅ Archivo CSV cargado exitosamente!\")\n",
    "print(df_original.info())\n",
    "df_original.head()"
   ]
  },
  {
   "cell_type": "markdown",
   "id": "45b6d66f",
   "metadata": {},
   "source": [
    "# Plan de Ejecución del Proceso ETL\n",
    "\n",
    "Este documento detalla el plan de trabajo para el diseño e implementación de un proceso ETL (Extracción, Transformación, Carga) básico utilizando Python (principalmente Pandas) sobre nuestro conjunto de datos seleccionado de datos.gob.mx.\n",
    "\n",
    "---\n",
    "\n",
    "## 1. Integrantes del Equipo\n",
    "\n",
    "* Ayala Garcia Jonathan David\n",
    "* Acosta Guerra Andres Isai\n",
    "* Castañeda Rodriguez Jaime\n",
    "* Hernandez Ramirez Adrian\n",
    "\n"
   ]
  },
  {
   "cell_type": "markdown",
   "id": "6fe185c2",
   "metadata": {},
   "source": [
    "## 2. Dataset Seleccionado\n",
    "\n",
    "* **Nombre del Dataset:** Residuos Peligrosos Generados por Entidad Federativa y Municipio\n",
    "* **Enlace al Dataset en datos.gob.mx:** [https://datos.gob.mx/busca/dataset/residuos-peligrosos-generados-por-entidad]"
   ]
  },
  {
   "cell_type": "markdown",
   "id": "0399b663",
   "metadata": {},
   "source": [
    "## 3. Objetivo de Análisis Principal\n",
    "\n",
    "Nuestros análisis principales con este dataset para el proyecto integrador incluyen:\n",
    "\n",
    "* Detectar y cuantificar registros duplicados y posibles inconsistencias en los datos de residuos peligrosos, para asegurar la calidad y unicidad de la información.\n",
    "* Identificar y analizar valores faltantes en las variables clave, con el fin de evaluar la completitud del dataset y definir estrategias de imputación o limpieza.\n",
    "* Detectar valores atípicos en las variables numéricas relevantes (por ejemplo, \"Generación estimada\"), para identificar posibles errores de captura o casos excepcionales que requieran revisión.\n",
    "\n",
    "Estas decisiones guiarán las transformaciones necesarias para"
   ]
  },
  {
   "cell_type": "markdown",
   "id": "de151b50",
   "metadata": {},
   "source": [
    "## 4. Diseño Detallado del Proceso ETL\n",
    "\n",
    "### 4.1. Plan de Extracción (E)\n",
    "\n",
    "* **Archivo a Leer:** residuos_peligrosos.csv\n",
    "* **Formato del Archivo:** CSV\n",
    "* **Parámetros de Lectura (ej. para CSV):**\n",
    "    * **Separador:** `,`\n",
    "    * **Encoding:** `utf-8`\n",
    "    * **Encabezados:** Sí\n",
    "* **Selección Inicial de Columnas:**\n",
    "    * Se cargarán todas las columnas y se realizará la selección en la fase de Transformación."
   ]
  },
  {
   "cell_type": "code",
   "execution_count": 46,
   "id": "9e181905",
   "metadata": {},
   "outputs": [
    {
     "name": "stdout",
     "output_type": "stream",
     "text": [
      " \n",
      " Columnas con valores faltantes: \n",
      "ID Entidad Federaativa     0\n",
      "Entidad federativa         0\n",
      "Municipio                  0\n",
      "Año                        0\n",
      "Subsector                 40\n",
      "Categoría de generador     0\n",
      "Categoría del residuo      9\n",
      "Tipo de residuo           30\n",
      "Generación estimada        0\n",
      "dtype: int64\n",
      " \n",
      " Porcentaje de valores faltantes por columna: \n",
      "ID Entidad Federaativa    0.000000\n",
      "Entidad federativa        0.000000\n",
      "Municipio                 0.000000\n",
      "Año                       0.000000\n",
      "Subsector                 0.627451\n",
      "Categoría de generador    0.000000\n",
      "Categoría del residuo     0.141176\n",
      "Tipo de residuo           0.470588\n",
      "Generación estimada       0.000000\n",
      "dtype: float64\n",
      "\n",
      "Columnas con más del 20% de valores faltantes:\n",
      "Series([], dtype: float64)\n"
     ]
    }
   ],
   "source": [
    "faltantes = df_original.isnull().sum()\n",
    "print(f\" \\n Columnas con valores faltantes: \\n{faltantes}\")\n",
    "\n",
    "\n",
    "porcentaje_faltantes = (faltantes / len(df_original)) * 100\n",
    "pd.set_option('display.max_rows', None)\n",
    "pd.set_option('display.max_columns', None)\n",
    "print(f\" \\n Porcentaje de valores faltantes por columna: \\n{porcentaje_faltantes}\")\n",
    "\n",
    "columnas_mas_20 = porcentaje_faltantes[porcentaje_faltantes > 20]\n",
    "print(\"\\nColumnas con más del 20% de valores faltantes:\")\n",
    "print(columnas_mas_20)"
   ]
  },
  {
   "cell_type": "code",
   "execution_count": 47,
   "id": "dea53085",
   "metadata": {},
   "outputs": [
    {
     "data": {
      "image/png": "[encoded data removed]",
      "text/plain": [
       "<Figure size 1200x600 with 1 Axes>"
      ]
     },
     "metadata": {},
     "output_type": "display_data"
    }
   ],
   "source": [
    "\n",
    "plt.figure(figsize=(12, 6))\n",
    "sns.heatmap(df_original.isnull(), cbar=False, cmap='viridis', yticklabels=False)\n",
    "plt.title('Mapa de calor de valores faltantes')\n",
    "plt.xlabel('Columnas')\n",
    "plt.ylabel('Filas')\n",
    "plt.show()"
   ]
  },
  {
   "cell_type": "code",
   "execution_count": 48,
   "id": "7c223ebc",
   "metadata": {},
   "outputs": [
    {
     "name": "stdout",
     "output_type": "stream",
     "text": [
      "\n",
      "Número de registros duplicados exactos: 66\n",
      "\n",
      "Ejemplos de posibles registros similares con variaciones en el nombre de la entidad o municipio:\n",
      "  Entidad federativa Municipio   Año\n",
      "0     Aguascalientes  Sin Dato  2017\n",
      "1     Aguascalientes  Sin Dato  2017\n",
      "2     Aguascalientes  Sin Dato  2017\n",
      "3     Aguascalientes  Sin Dato  2017\n",
      "4     Aguascalientes  Sin Dato  2017\n",
      "5     Aguascalientes  Sin Dato  2017\n",
      "6     Aguascalientes  Sin Dato  2017\n",
      "7     Aguascalientes  Sin Dato  2017\n",
      "8     Aguascalientes  Sin Dato  2017\n",
      "9     Aguascalientes  Sin Dato  2017\n",
      "\n",
      "Columnas con valores faltantes:\n",
      "ID Entidad Federaativa     0\n",
      "Entidad federativa         0\n",
      "Municipio                  0\n",
      "Año                        0\n",
      "Subsector                 40\n",
      "Categoría de generador     0\n",
      "Categoría del residuo      9\n",
      "Tipo de residuo           30\n",
      "Generación estimada        0\n",
      "EntidadInitial             0\n",
      "MunicipioInitial           0\n",
      "dtype: int64\n"
     ]
    }
   ],
   "source": [
    "\n",
    "duplicados_exactos = df_original.duplicated().sum()\n",
    "print(f\"\\nNúmero de registros duplicados exactos: {duplicados_exactos}\")\n",
    "\n",
    "# Duplicados basados en 'ID Entidad Federaativa'\n",
    "#duplicados_id_entidad = df_original.duplicated(subset=['ID Entidad Federaativa']).sum()\n",
    "#print(f\"\\nNúmero de registros duplicados basados en ID Entidad Federaativa: {duplicados_id_entidad}\")\n",
    "\n",
    "# Duplicados por 'Entidad federativa', 'Municipio' y 'Año'\n",
    "#duplicados_entidad_municipio_anio = df_original.duplicated(subset=['Entidad federativa', 'Municipio', 'Año']).sum()\n",
    "#print(f\"\\nNúmero de registros duplicados por Entidad federativa + Municipio + Año: {duplicados_entidad_municipio_anio}\")\n",
    "\n",
    "# Iniciales de 'Entidad federativa' y 'Municipio' para detectar posibles variaciones\n",
    "df_original['EntidadInitial'] = df_original['Entidad federativa'].str[0].str.upper()\n",
    "df_original['MunicipioInitial'] = df_original['Municipio'].str[0].str.upper()\n",
    "posibles_variaciones = df_original.duplicated(subset=['EntidadInitial', 'MunicipioInitial', 'Año'], keep=False)\n",
    "variaciones_ejemplo = df_original[posibles_variaciones]\n",
    "print(\"\\nEjemplos de posibles registros similares con variaciones en el nombre de la entidad o municipio:\")\n",
    "print(variaciones_ejemplo[['Entidad federativa', 'Municipio', 'Año']].head(10))\n",
    "\n",
    "# Mostrar columnas con valores faltantes\n",
    "print(\"\\nColumnas con valores faltantes:\")\n",
    "print(df_original.isnull().sum())\n"
   ]
  },
  {
   "cell_type": "code",
   "execution_count": 49,
   "id": "6a7f7bcb",
   "metadata": {},
   "outputs": [
    {
     "name": "stdout",
     "output_type": "stream",
     "text": [
      "\n",
      "📊 GENERACIÓN ESTIMADA\n",
      "------------------------------\n",
      "count     6375.000000\n",
      "mean        42.860069\n",
      "std        828.463357\n",
      "min          0.000000\n",
      "25%          0.020000\n",
      "50%          0.190000\n",
      "75%          1.000000\n",
      "max      52775.000000\n",
      "Name: Generación estimada, dtype: float64\n",
      "🔎 Atípicos detectados fuera del rango 0-1000000: 0\n"
     ]
    },
    {
     "data": {
      "image/png": "[encoded data removed]",
      "text/plain": [
       "<Figure size 800x150 with 1 Axes>"
      ]
     },
     "metadata": {},
     "output_type": "display_data"
    }
   ],
   "source": [
    "\n",
    "rangos_validos = {\n",
    "    'Generación estimada': (0, 1_000_000),  # Ejemplo: de 0 a 1 millón (ajusta según contexto)\n",
    "    # Agrega aquí otras variables numéricas si las tienes, por ejemplo:\n",
    "    # 'OtraVariableNumerica': (min, max),\n",
    "}\n",
    "\n",
    "variables = list(rangos_validos.keys())\n",
    "\n",
    "for var in variables:\n",
    "    print(f\"\\n📊 {var.upper()}\")\n",
    "    print(\"-\" * 30)\n",
    "    \n",
    "    # Convertir a numérico, forzando errores a NaN\n",
    "    df_original[var] = pd.to_numeric(df_original[var], errors='coerce')\n",
    "    \n",
    "    # Estadísticas descriptivas\n",
    "    print(df_original[var].describe())\n",
    "    \n",
    "    # Identificar valores fuera de rango\n",
    "    min_val, max_val = rangos_validos[var]\n",
    "    atipicos = df_original[(df_original[var] < min_val) | (df_original[var] > max_val)]\n",
    "    print(f\"🔎 Atípicos detectados fuera del rango {min_val}-{max_val}: {len(atipicos)}\")\n",
    "\n",
    "    # Visualización boxplot\n",
    "    plt.figure(figsize=(8, 1.5))\n",
    "    sns.boxplot(x=df_original[var], color=\"purple\")\n",
    "    plt.title(f'Boxplot de {var}')\n",
    "    plt.xlabel(var)\n",
    "    plt.show()"
   ]
  },
  {
   "cell_type": "markdown",
   "id": "c4e7c2f1",
   "metadata": {},
   "source": [
    "### 4.2. Plan de Transformación (T)\n",
    "\n",
    "Esta es la fase más crítica. Aquí detallamos las acciones que se tomarán para limpiar y estructurar los datos, columna por columna si es necesario, basándonos en nuestra exploración previa y los objetivos de análisis.\n",
    "\n",
    "* **4.2.1. Renombrar/Estandarizar Columnas:**\n",
    "    * **Lista de Columnas a Renombrar:**\n",
    "        * `ID Entidad Federaativa` -> `ID_Entidad_Federativa` (Justificación: Corregir error ortográfico y estandarizar a snake_case)\n",
    "        * `Entidad federativa` -> `Entidad_Federativa` (Justificación: Estandarizar a snake_case)\n",
    "        * `Generación estimada` -> `Generacion_Estimada` (Justificación: Estandarizar a snake_case y eliminar acentos)\n",
    "        * [Añadir más si es necesario]"
   ]
  },
  {
   "cell_type": "code",
   "execution_count": 50,
   "id": "72d58f30",
   "metadata": {},
   "outputs": [
    {
     "name": "stdout",
     "output_type": "stream",
     "text": [
      "Columnas después del renombrado:\n",
      "['ID_Entidad_Federativa', 'Entidad_Federativa', 'Municipio', 'Año', 'Subsector', 'Categoría de generador', 'Categoría del residuo', 'Tipo de residuo', 'Generacion_Estimada', 'EntidadInitial', 'MunicipioInitial']\n"
     ]
    }
   ],
   "source": [
    "\n",
    "# Diccionario de renombrado\n",
    "renombrar_columnas = {\n",
    "    'ID Entidad Federaativa': 'ID_Entidad_Federativa',\n",
    "    'Entidad federativa': 'Entidad_Federativa',\n",
    "    'Generación estimada': 'Generacion_Estimada',\n",
    "    # Agrega más si es necesario\n",
    "}\n",
    "\n",
    "df_original = df_original.rename(columns=renombrar_columnas)\n",
    "\n",
    "# Mostrar las columnas ya renombradas\n",
    "print(\"Columnas después del renombrado:\")\n",
    "print(df_original.columns.tolist())"
   ]
  },
  {
   "cell_type": "markdown",
   "id": "2a9b5db7",
   "metadata": {},
   "source": [
    "* **4.2.2. Selección de Columnas (Eliminación de No Necesarias):**\n",
    "    * **Columnas Finales Necesarias:**\n",
    "        * `ID_Entidad_Federativa` (Identificador único de la entidad federativa)\n",
    "        * `Entidad_Federativa` (Nombre de la entidad federativa)\n",
    "        * `Municipio` (Nombre del municipio)\n",
    "        * `Año` (Año de registro)\n",
    "        * `Subsector` (Clasificación del subsector)\n",
    "        * `Categoria_de_Generador` (Categoría del generador de residuos)\n",
    "        * `Categoria_del_Residuo` (Tipo de residuo)\n",
    "        * `Tipo_de_Residuo` (Clasificación específica del residuo)\n",
    "        * `Generacion_Estimada` (Cantidad estimada de residuos generados)\n",
    "        * [Añadir más si es necesario]\n",
    "        > Estas columnas son importantes porque contienen la información clave para el análisis geográfico, temporal y cuantitativo de los residuos peligrosos.\n",
    "\n",
    "    * **Columnas a Eliminar:**\n",
    "        * [Ejemplo: `Columna_Innecesaria`] (No aporta información relevante para el análisis)\n",
    "        * [Ejemplo: `Columna_Con_Muchos_Nulos`] (Demasiados valores faltantes)\n",
    "        * [Añadir más si es necesario]"
   ]
  },
  {
   "cell_type": "code",
   "execution_count": 51,
   "id": "bdef8762",
   "metadata": {},
   "outputs": [
    {
     "name": "stdout",
     "output_type": "stream",
     "text": [
      "Columnas finales seleccionadas:\n",
      "['ID_Entidad_Federativa', 'Entidad_Federativa', 'Municipio', 'Año', 'Subsector', 'Categoría de generador', 'Categoría del residuo', 'Tipo de residuo', 'Generacion_Estimada']\n"
     ]
    }
   ],
   "source": [
    "# Lista de columnas finales necesarias\n",
    "columnas_finales = [\n",
    "    'ID_Entidad_Federativa',\n",
    "    'Entidad_Federativa',\n",
    "    'Municipio',\n",
    "    'Año',\n",
    "    'Subsector',\n",
    "    'Categoría de generador',\n",
    "    'Categoría del residuo',\n",
    "    'Tipo de residuo',\n",
    "    'Generacion_Estimada'\n",
    "]\n",
    "\n",
    "df_final = df_original[columnas_finales]\n",
    "\n",
    "print(\"Columnas finales seleccionadas:\")\n",
    "print(df_final.columns.tolist())"
   ]
  },
  {
   "cell_type": "markdown",
   "id": "391dc500",
   "metadata": {},
   "source": [
    "* **4.2.3. Corrección de Tipos de Datos:**\n",
    "    * **Columna `Año`:** Convertir a tipo `int`. (Justificación: Para facilitar análisis temporales y agrupaciones por año.)\n",
    "    * **Columna `Generacion_Estimada`:** Convertir a tipo `float`. (Justificación: Para realizar cálculos y análisis estadísticos sobre la cantidad de residuos.)\n",
    "    * **Columna `Entidad_Federativa`, `Municipio`, `Subsector`, `Categoria_de_Generador`, `Categoria_del_Residuo`, `Tipo_de_Residuo`:** Convertir a tipo `category`. (Justificación: Son variables categóricas y esto optimiza memoria y análisis.)\n",
    "    * *Consideraciones:* Usar `errors='coerce'` para manejar valores no convertibles."
   ]
  },
  {
   "cell_type": "code",
   "execution_count": 52,
   "id": "555f7b40",
   "metadata": {},
   "outputs": [
    {
     "name": "stdout",
     "output_type": "stream",
     "text": [
      "Tipos de datos después de la conversión:\n",
      "ID_Entidad_Federativa        int64\n",
      "Entidad_Federativa        category\n",
      "Municipio                 category\n",
      "Año                          Int64\n",
      "Subsector                 category\n",
      "Categoría de generador    category\n",
      "Categoría del residuo     category\n",
      "Tipo de residuo           category\n",
      "Generacion_Estimada        float64\n",
      "dtype: object\n"
     ]
    }
   ],
   "source": [
    "# Corrección de tipos de datos\n",
    "df_final['Año'] = pd.to_numeric(df_final['Año'], errors='coerce').astype('Int64')\n",
    "df_final['Generacion_Estimada'] = pd.to_numeric(df_final['Generacion_Estimada'], errors='coerce')\n",
    "\n",
    "categoricas = [\n",
    "    'Entidad_Federativa',\n",
    "    'Municipio',\n",
    "    'Subsector',\n",
    "    'Categoría de generador',\n",
    "    'Categoría del residuo',\n",
    "    'Tipo de residuo'\n",
    "]\n",
    "for col in categoricas:\n",
    "    df_final[col] = df_final[col].astype('category')\n",
    "\n",
    "print(\"Tipos de datos después de la conversión:\")\n",
    "print(df_final.dtypes)\n",
    "\n",
    "# ...existing"
   ]
  },
  {
   "cell_type": "markdown",
   "id": "0d516d61",
   "metadata": {},
   "source": [
    "* **4.2.4. Limpieza de Texto (para columnas categóricas/texto):**\n",
    "    * **Columna `Entidad_Federativa`:**\n",
    "        * Acciones: Eliminar espacios extra (`.str.strip()`), convertir a mayúsculas (`.str.upper()`), estandarizar nombres de entidades si es necesario (ej. \"CDMX\" a \"CIUDAD DE MÉXICO\").\n",
    "        * (Justificación: Mejorar consistencia y permitir agrupaciones correctas.)\n",
    "    * **Columna `Municipio`:**\n",
    "        * Acciones: Eliminar espacios extra, convertir a mayúsculas, corregir errores ortográficos comunes.\n",
    "        * (Justificación: Evitar duplicados por diferencias de formato y facilitar análisis geográfico.)\n",
    "    * **Columna `Subsector`, `Categoría de generador`, `Categoría del residuo`, `Tipo de residuo`:**\n",
    "        * Acciones: Eliminar espacios extra, convertir a mayúsculas, estandarizar valores si es necesario.\n",
    "        * (Justificación: Mejorar calidad de los datos categóricos y facilitar análisis.)"
   ]
  },
  {
   "cell_type": "code",
   "execution_count": 53,
   "id": "419ad58e",
   "metadata": {},
   "outputs": [
    {
     "name": "stdout",
     "output_type": "stream",
     "text": [
      "Valores únicos de Entidad_Federativa después de limpieza:\n",
      "['AGUASCALIENTES' 'BAJA CALIFORNIA' 'BAJA CALIFORNIA SUR' 'CAMPECHE'\n",
      " 'COAHUILA DE ZARAGOZA' 'COLIMA' 'CHIAPAS' 'CHIHUAHUA' 'CIUDAD DE MÉXICO'\n",
      " 'DURANGO' 'GUANAJUATO' 'GUERRERO' 'HIDALGO' 'JALISCO' 'MÉXICO'\n",
      " 'MICHOACAN DE OCAMPO' 'MICHOACÁN DE OCAMPO' 'MORELOS' 'NAYARIT'\n",
      " 'NUEVO LEÓN' 'OAXACA' 'PUEBLA' 'QUERÉTARO' 'QUINTANA ROO'\n",
      " 'SAN LUIS POTOSÍ' 'SINALOA' 'SONORA' 'TABASCO' 'TAMAULIPAS' 'TLAXCALA'\n",
      " 'VERACRUZ DE IGNACIO DE LA LLAVE' 'YUCATÁN' 'ZACATECAS']\n"
     ]
    }
   ],
   "source": [
    "# Limpieza de texto para columnas categóricas\n",
    "df_final['Entidad_Federativa'] = df_final['Entidad_Federativa'].str.strip().str.upper()\n",
    "df_final['Municipio'] = df_final['Municipio'].str.strip().str.upper()\n",
    "df_final['Subsector'] = df_final['Subsector'].str.strip().str.upper()\n",
    "df_final['Categoría de generador'] = df_final['Categoría de generador'].str.strip().str.upper()\n",
    "df_final['Categoría del residuo'] = df_final['Categoría del residuo'].str.strip().str.upper()\n",
    "df_final['Tipo de residuo'] = df_final['Tipo de residuo'].str.strip().str.upper()\n",
    "\n",
    "# Ejemplo de estandarización específica (opcional)\n",
    "df_final['Entidad_Federativa'] = df_final['Entidad_Federativa'].replace({'CDMX': 'CIUDAD DE MÉXICO'})\n",
    "\n",
    "print(\"Valores únicos de Entidad_Federativa después de limpieza:\")\n",
    "print(df_final['Entidad_Federativa'].unique())\n",
    "\n",
    "# ...existing"
   ]
  },
  {
   "cell_type": "markdown",
   "id": "09e33d3e",
   "metadata": {},
   "source": [
    "* **4.2.5. Manejo de Valores Faltantes (NaNs):**\n",
    "    * **Columna `Subsector`:**\n",
    "        * Estrategia: Rellenar valores faltantes con 'DESCONOCIDO'.\n",
    "        * Justificación: Es una variable categórica y no se puede imputar numéricamente; asignar 'DESCONOCIDO' permite conservar los registros para el análisis.\n",
    "    * **Columna `Categoría del residuo`:**\n",
    "        * Estrategia: Rellenar valores faltantes con 'NO ESPECIFICADO'.\n",
    "        * Justificación: Mantener la integridad del dataset y evitar la eliminación de registros potencialmente útiles.\n",
    "    * **Columna `Tipo de residuo`:**\n",
    "        * Estrategia: Rellenar valores faltantes con 'NO ESPECIFICADO'.\n",
    "        * Justificación: Similar a la anterior, para no perder información relevante y facilitar el análisis."
   ]
  },
  {
   "cell_type": "code",
   "execution_count": 54,
   "id": "b642eb53",
   "metadata": {},
   "outputs": [
    {
     "name": "stdout",
     "output_type": "stream",
     "text": [
      "Valores faltantes por columna después del tratamiento:\n",
      "ID_Entidad_Federativa     0\n",
      "Entidad_Federativa        0\n",
      "Municipio                 0\n",
      "Año                       0\n",
      "Subsector                 0\n",
      "Categoría de generador    0\n",
      "Categoría del residuo     0\n",
      "Tipo de residuo           0\n",
      "Generacion_Estimada       0\n",
      "dtype: int64\n"
     ]
    }
   ],
   "source": [
    "# Manejo de valores faltantes\n",
    "df_final['Subsector'] = df_final['Subsector'].fillna('DESCONOCIDO')\n",
    "df_final['Categoría del residuo'] = df_final['Categoría del residuo'].fillna('NO ESPECIFICADO')\n",
    "df_final['Tipo de residuo'] = df_final['Tipo de residuo'].fillna('NO ESPECIFICADO')\n",
    "\n",
    "print(\"Valores faltantes por columna después del tratamiento:\")\n",
    "print(df_final.isnull().sum())\n"
   ]
  },
  {
   "cell_type": "markdown",
   "id": "9a89b1e9",
   "metadata": {},
   "source": [
    "* **4.2.6. Manejo de Duplicados:**\n",
    "    * **Identificación:** Se buscarán filas duplicadas completas y también duplicados basados en el subconjunto de columnas `['ID_Entidad_Federativa', 'Entidad_Federativa', 'Municipio', 'Año', 'Generacion_Estimada']`.\n",
    "    * **Tratamiento:** Se eliminarán los duplicados conservando la primera ocurrencia usando `.drop_duplicates()`.\n",
    "    * Justificación: Asegurar la unicidad de los registros clave y evitar el sesgo en los análisis por registros repetidos."
   ]
  },
  {
   "cell_type": "code",
   "execution_count": 55,
   "id": "7b5f670a",
   "metadata": {},
   "outputs": [
    {
     "name": "stdout",
     "output_type": "stream",
     "text": [
      "Total de registros después de eliminar duplicados: 4918\n"
     ]
    }
   ],
   "source": [
    "# Eliminar duplicados completos\n",
    "df_final = df_final.drop_duplicates()\n",
    "\n",
    "# Eliminar duplicados basados en un subconjunto de columnas clave\n",
    "df_final = df_final.drop_duplicates(subset=[\n",
    "    'ID_Entidad_Federativa',\n",
    "    'Entidad_Federativa',\n",
    "    'Municipio',\n",
    "    'Año',\n",
    "    'Generacion_Estimada'\n",
    "])\n",
    "\n",
    "print(f\"Total de registros después de eliminar duplicados: {len(df_final)}\")\n"
   ]
  },
  {
   "cell_type": "markdown",
   "id": "16faded2",
   "metadata": {},
   "source": [
    "* **4.2.7. Validación/Corrección de Errores (Valores Atípicos/Imposibles):**\n",
    "    * **Columna `Generacion_Estimada`:**\n",
    "        * Rango Lógico: Entre 0 y 1,000,000.\n",
    "        * Acción: Reemplazar valores fuera de rango por NaN y luego decidir si imputar o eliminar esos registros.\n",
    "        * Justificación: Evitar sesgos en los análisis estadísticos y asegurar que los resultados reflejen datos plausibles."
   ]
  },
  {
   "cell_type": "code",
   "execution_count": 56,
   "id": "0aeec97a",
   "metadata": {},
   "outputs": [
    {
     "name": "stdout",
     "output_type": "stream",
     "text": [
      "Cantidad de valores fuera de rango en 'Generacion_Estimada' corregidos a NaN: 0\n"
     ]
    }
   ],
   "source": [
    "# Validación/corrección de valores atípicos en 'Generacion_Estimada'\n",
    "min_val, max_val = 0, 1_000_000  # Ajusta el rango según el contexto real\n",
    "fuera_de_rango = (df_final['Generacion_Estimada'] < min_val) | (df_final['Generacion_Estimada'] > max_val)\n",
    "df_final.loc[fuera_de_rango, 'Generacion_Estimada'] = np.nan\n",
    "\n",
    "print(\"Cantidad de valores fuera de rango en 'Generacion_Estimada' corregidos a NaN:\", fuera_de_rango.sum())\n"
   ]
  },
  {
   "cell_type": "markdown",
   "id": "8965549b",
   "metadata": {},
   "source": [
    "* **4.2.8. (Opcional) Feature Engineering Básico:**\n",
    "    * **Nueva Columna `Entidad_Municipio`:**\n",
    "        * Origen: Concatenar las columnas `Entidad_Federativa` y `Municipio`.\n",
    "        * Cálculo: `df['Entidad_Municipio'] = df['Entidad_Federativa'] + ' - ' + df['Municipio']`\n",
    "        * Justificación: Facilita el análisis geográfico combinado y la visualización de datos por entidad y municipio juntos.\n",
    "    * **Nueva Columna `Generacion_Estimada_Log`:**\n",
    "        * Origen: Transformación logarítmica de `Generacion_Estimada`.\n",
    "        * Cálculo: `df['Generacion_Estimada_Log'] = np.log1p(df['Generacion_Estimada'])`\n",
    "        * Justificación: Permite analizar la variable en una escala menos sesgada por valores extremos y facilita la visualización y modelado."
   ]
  },
  {
   "cell_type": "code",
   "execution_count": 57,
   "id": "90247b41",
   "metadata": {},
   "outputs": [
    {
     "name": "stdout",
     "output_type": "stream",
     "text": [
      "Nuevas columnas creadas:\n",
      "['Entidad_Municipio', 'Generacion_Estimada_Log']\n"
     ]
    }
   ],
   "source": [
    "# Feature Engineering: nueva columna combinada de entidad y municipio\n",
    "df_final['Entidad_Municipio'] = df_final['Entidad_Federativa'] + ' - ' + df_final['Municipio']\n",
    "\n",
    "# Feature Engineering: transformación logarítmica de la generación estimada\n",
    "df_final['Generacion_Estimada_Log'] = np.log1p(df_final['Generacion_Estimada'])\n",
    "\n",
    "print(\"Nuevas columnas creadas:\")\n",
    "print(['Entidad_Municipio', 'Generacion_Estimada_Log'])"
   ]
  },
  {
   "cell_type": "markdown",
   "id": "b5b75092",
   "metadata": {},
   "source": [
    "* **4.2.9. Estructura Final del DataFrame(s):**\n",
    "    * Descripción: El DataFrame final contendrá únicamente las columnas relevantes y limpias para el análisis de residuos peligrosos. Todas las columnas estarán estandarizadas, sin valores faltantes críticos, y con tipos de datos apropiados. Se mantendrá un solo DataFrame principal, ya que el análisis no requiere una estructura de tablas separadas (hechos/dimensiones).\n",
    "    * Ejemplo de la estructura esperada:\n",
    "        ```\n",
    "        DataFrame Final:\n",
    "        - ID_Entidad_Federativa (int/categorical): Identificador único de la entidad federativa\n",
    "        - Entidad_Federativa (category): Nombre estandarizado de la entidad federativa\n",
    "        - Municipio (category): Nombre estandarizado del municipio\n",
    "        - Año (int): Año del registro\n",
    "        - Subsector (category): Clasificación del subsector\n",
    "        - Categoría de generador (category): Tipo de generador de residuos\n",
    "        - Categoría del residuo (category): Tipo general de residuo\n",
    "        - Tipo de residuo (category): Clasificación específica del residuo\n",
    "        - Generacion_Estimada (float): Cantidad estimada de residuos generados\n",
    "        - Entidad_Municipio (string): Combinación de entidad y municipio para análisis geográfico\n",
    "        - Generacion_Estimada_Log (float): Transformación logarítmica de la generación"
   ]
  },
  {
   "cell_type": "code",
   "execution_count": 58,
   "id": "fe8cb66e",
   "metadata": {},
   "outputs": [
    {
     "name": "stdout",
     "output_type": "stream",
     "text": [
      "Estructura final del DataFrame:\n",
      "ID_Entidad_Federativa        int64\n",
      "Entidad_Federativa          object\n",
      "Municipio                   object\n",
      "Año                          Int64\n",
      "Subsector                   object\n",
      "Categoría de generador      object\n",
      "Categoría del residuo       object\n",
      "Tipo de residuo             object\n",
      "Generacion_Estimada        float64\n",
      "Entidad_Municipio           object\n",
      "Generacion_Estimada_Log    float64\n",
      "dtype: object\n",
      "\n",
      "Primeras filas del DataFrame final:\n",
      "   ID_Entidad_Federativa Entidad_Federativa Municipio   Año  Subsector  \\\n",
      "0                      1     AGUASCALIENTES  SIN DATO  2017  PETROLERO   \n",
      "1                      1     AGUASCALIENTES  SIN DATO  2017  PETROLERO   \n",
      "2                      1     AGUASCALIENTES  SIN DATO  2017  PETROLERO   \n",
      "3                      1     AGUASCALIENTES  SIN DATO  2017  PETROLERO   \n",
      "4                      1     AGUASCALIENTES  SIN DATO  2017  PETROLERO   \n",
      "\n",
      "  Categoría de generador                              Categoría del residuo  \\\n",
      "0         MICROGENERADOR  GASOLINA, DIESEL Y NAFTAS GASTADOS O SUCIOS PR...   \n",
      "1         MICROGENERADOR  GASOLINA, DIESEL Y NAFTAS GASTADOS O SUCIOS PR...   \n",
      "2         MICROGENERADOR                                LIQUIDOS DE PROCESO   \n",
      "3         MICROGENERADOR                                    LODOS ACEITOSOS   \n",
      "4         MICROGENERADOR                                   RESIDUOS SOLIDOS   \n",
      "\n",
      "                                     Tipo de residuo  Generacion_Estimada  \\\n",
      "0                                  PEQUEÑO GENERADOR                 1.22   \n",
      "1  MEZCLAS DE COMBUSTIBLES SUCIOS, MEZCLAS DE HID...                 0.04   \n",
      "2  AGUA CONTAMINADA CON HIDROCARBUROS, COMBUSTIBL...                 0.09   \n",
      "3  CON CONTAMINACION DE HIDROCARBUROS, COMBUSTIBL...                 1.08   \n",
      "4  ESTOPA, TRAPO, PLASTICOS, CARTON, MADERA, BROC...                 3.12   \n",
      "\n",
      "           Entidad_Municipio  Generacion_Estimada_Log  \n",
      "0  AGUASCALIENTES - SIN DATO                 0.797507  \n",
      "1  AGUASCALIENTES - SIN DATO                 0.039221  \n",
      "2  AGUASCALIENTES - SIN DATO                 0.086178  \n",
      "3  AGUASCALIENTES - SIN DATO                 0.732368  \n",
      "4  AGUASCALIENTES - SIN DATO                 1.415853  \n"
     ]
    }
   ],
   "source": [
    "\n",
    "print(\"Estructura final del DataFrame:\")\n",
    "print(df_final.dtypes)\n",
    "print(\"\\nPrimeras filas del DataFrame final:\")\n",
    "print(df_final.head())\n",
    "\n"
   ]
  },
  {
   "cell_type": "markdown",
   "id": "baa463d1",
   "metadata": {},
   "source": [
    "### 4.3. Plan de Carga (L)\n",
    "\n",
    "* **Destino Simulado:** [Seleccionar una opción y justificar.]\n",
    "    * **Opción 1 (Recomendada): Base de Datos SQLite**\n",
    "        * Nombre del archivo de la DB: `[nombre_de_su_base_de_datos.db]`\n",
    "        * Nombre de la tabla: `[nombre_de_su_tabla]`\n",
    "        * Parámetros `to_sql`: `if_exists='replace'`, `index=False` (para no guardar el índice de Pandas como columna).\n",
    "        * Justificación: [Ej. \"Simula una carga a una base de datos relacional para futuros análisis SQL.\"]\n",
    "    * **Opción 2: Archivos Limpios (CSV o JSON)**\n",
    "        * Nombre del archivo CSV: `[nombre_dataset_limpio.csv]`\n",
    "        * Nombre del archivo JSON: `[nombre_dataset_limpio.json]`\n",
    "        * Parámetros `to_csv`/`to_json`: `index=False` (para no guardar el índice de Pandas como columna).\n",
    "        * Justificación: [Ej. \"Fácilmente accesible para herramientas de análisis posteriores.\"]\n"
   ]
  },
  {
   "cell_type": "markdown",
   "id": "36d0a30c",
   "metadata": {},
   "source": [
    "\n",
    "## 5. Implementación del ETL en Python (Sección para el Código)\n",
    "\n",
    "En esta sección del notebook, se desarrollará el código Python. Cada paso del plan anterior debe tener su correspondiente bloque de código, acompañado de comentarios explicativos y verificaciones intermedias.\n",
    "\n",
    "### 5.1. Importación de Librerías"
   ]
  }
 ],
 "metadata": {
  "kernelspec": {
   "display_name": "base",
   "language": "python",
   "name": "python3"
  },
  "language_info": {
   "codemirror_mode": {
    "name": "ipython",
    "version": 3
   },
   "file_extension": ".py",
   "mimetype": "text/x-python",
   "name": "python",
   "nbconvert_exporter": "python",
   "pygments_lexer": "ipython3",
   "version": "3.12.7"
  }
 },
 "nbformat": 4,
 "nbformat_minor": 5
}
